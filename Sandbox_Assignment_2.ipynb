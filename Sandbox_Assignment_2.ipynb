{
  "nbformat": 4,
  "nbformat_minor": 0,
  "metadata": {
    "colab": {
      "name": "Sandbox_Assignment 2.ipynb",
      "provenance": [],
      "authorship_tag": "ABX9TyP+rkrjARQOqYBQGf88t9PM",
      "include_colab_link": true
    },
    "kernelspec": {
      "name": "python3",
      "display_name": "Python 3"
    },
    "language_info": {
      "name": "python"
    }
  },
  "cells": [
    {
      "cell_type": "markdown",
      "metadata": {
        "id": "view-in-github",
        "colab_type": "text"
      },
      "source": [
        "<a href=\"https://colab.research.google.com/github/nayakoralalage/ISYS5002-Assignment-2/blob/main/Sandbox_Assignment_2.ipynb\" target=\"_parent\"><img src=\"https://colab.research.google.com/assets/colab-badge.svg\" alt=\"Open In Colab\"/></a>"
      ]
    },
    {
      "cell_type": "markdown",
      "metadata": {
        "id": "UmOt9pWQS80n"
      },
      "source": [
        "# Assignment Ideas\n",
        "\n",
        "The problem solving process can be divided into 5 main parts: \n",
        "\n",
        "1. Mention the problem clearly\n",
        "2. Describe the input and output information \n",
        "3. Work the problem by hand \n",
        "4. Develop an algorithm (and convert to python)\n",
        "5. Test solution with a varity of data \n",
        "\n",
        "Program, Inputs, Processing, and Outputs\n",
        "\n",
        "# Inputs\n",
        "\n",
        "* Needs to input a ticker symbal. But I have no idea about ticker symbol \n",
        "\n",
        "Note: I think I will need to use the input() functions to prompt the user \n",
        "\n",
        "**TODO: Find out what a ticker symbol is**\n",
        "\n",
        "\n",
        "\n",
        "# Processing Thoughts \n",
        "\n",
        "* Scrape the yahoo websitr\n",
        "* Extract the \"Key Excutives\"\n",
        "\n",
        "**TODO: Find Yahoo Webstie**\n",
        "**TODO: Find the key executives**\n",
        "\n",
        "# Outputs \n",
        "\n",
        "* Save to CSV files\n",
        "* Save to SQL database\n",
        "\n",
        "**TODO: Work out what I have to save!**"
      ]
    },
    {
      "cell_type": "code",
      "metadata": {
        "id": "d9xnrNXmTF2z"
      },
      "source": [
        ""
      ],
      "execution_count": null,
      "outputs": []
    }
  ]
}