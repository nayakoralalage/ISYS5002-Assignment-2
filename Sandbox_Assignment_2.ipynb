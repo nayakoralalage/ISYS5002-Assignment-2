{
  "nbformat": 4,
  "nbformat_minor": 0,
  "metadata": {
    "colab": {
      "name": "Sandbox_Assignment 2.ipynb",
      "provenance": [],
      "authorship_tag": "ABX9TyMNxxO8PPfg6kxHlYAqf7x+",
      "include_colab_link": true
    },
    "kernelspec": {
      "name": "python3",
      "display_name": "Python 3"
    },
    "language_info": {
      "name": "python"
    }
  },
  "cells": [
    {
      "cell_type": "markdown",
      "metadata": {
        "id": "view-in-github",
        "colab_type": "text"
      },
      "source": [
        "<a href=\"https://colab.research.google.com/github/nayakoralalage/ISYS5002-Assignment-2/blob/main/Sandbox_Assignment_2.ipynb\" target=\"_parent\"><img src=\"https://colab.research.google.com/assets/colab-badge.svg\" alt=\"Open In Colab\"/></a>"
      ]
    },
    {
      "cell_type": "markdown",
      "metadata": {
        "id": "UmOt9pWQS80n"
      },
      "source": [
        "# Introduction to Programming - Assignment 2\n",
        "# Final Version\n",
        "19622558  \n",
        "\n",
        "\n",
        "\n",
        "\n",
        "# Assignment Ideas\n",
        "\n",
        "The problem solving process can be divided into 5 main parts: \n",
        "\n",
        "1. Mention the problem clearly\n",
        "2. Describe the input and output information \n",
        "3. Work the problem by hand \n",
        "4. Develop an algorithm (and convert to python)\n",
        "5. Test solution with a varity of data \n",
        "\n",
        "Program, Inputs, Processing, and Outputs\n",
        "\n",
        "# Inputs\n",
        "\n",
        "* Needs to input a ticker symbal. But I have no idea about ticker symbol \n",
        "\n",
        "Note: I think I will need to use the input() functions to prompt the user \n",
        "\n",
        "**TODO: Find out what a ticker symbol is**\n",
        "\n",
        "### Ticker Symbol \n",
        "A ticker symbol or stock symbol is an abbreviation used to uniquely identify publicly traded shares of a particular stock on a particular stock market. see: https://en.wikipedia.org/wiki/Ticker_symbol\n",
        "\n",
        "\n",
        "# Processing Thoughts \n",
        "\n",
        "* Scrape the yahoo websitr\n",
        "* Extract the \"Key Excutives\"\n",
        "* Calculate the income tax\n",
        "\n",
        "Note: I have learnt to calculate the  tax using ATO table in a previous notebook. Therefore I might be able to use that for this assignment  \n",
        "\n",
        "**TODO: Find Yahoo Webstie**\n",
        "\n",
        "This is the webpage: https://au.finance.yahoo.com/ \n",
        "\n",
        "To find a company, needs to search in the search bar \n",
        "\n",
        "**TODO: Find the key executives**\n",
        "\n",
        "# Outputs \n",
        "\n",
        "* Save to CSV files\n",
        "* Save to SQL database\n",
        "\n",
        "**TODO: Work out what I have to save!**\n",
        "\n",
        "\n",
        "\n"
      ]
    },
    {
      "cell_type": "markdown",
      "metadata": {
        "id": "cP6hGHUKVfp7"
      },
      "source": [
        "# Explore the website\n",
        "\n",
        "1. Search for BHP\n",
        "The ticker symbol is BHP.AX\n",
        "\n",
        "Note: AX = Australian\n",
        "\n",
        "Able to find the key executives in the profile page. This is the URL for BHP\n",
        "\n",
        "https://au.finance.yahoo.com/quote/BHP.AX/profile?p=BHP.AX\n",
        "\n",
        "2. Search for Woolworths\n",
        "The thicker symbol is WOW.AX This is the URL for Woolworths\n",
        "\n",
        "https://au.finance.yahoo.com/quote/WOW.AX/profile?p=WOW.AX\n",
        "\n",
        "3. Search for National Australia Bank(NAB)\n",
        "The ticker symbol is NAB.AX This is the URL for NAB\n",
        "\n",
        "https://au.finance.yahoo.com/quote/NAB.AX/profile?p=NAB.AX&.tsrc=fin-srch\n",
        "\n",
        "mm.. I can see something interesting. The ticker appearce twice in the URL.\n",
        "\n",
        "The manual process is\n",
        "Search for Ticker\n",
        "Click on profile\n",
        "\n",
        "\n",
        "\n",
        "\n",
        "**TODO: Can I shourtcut the process and just use the URL**\n",
        "\n",
        "Found that I can edit URL and replace the ticker. It is important to replace both first and second ticker symbol in the URL for the security\n",
        "\n",
        "\n",
        "\n"
      ]
    },
    {
      "cell_type": "markdown",
      "metadata": {
        "id": "_kl83ppVWjK5"
      },
      "source": [
        "# Calculate the income tax manually \n",
        "\n",
        "This is the key execcutive table of the BHP. Copy and pasted from \n",
        "\n",
        "https://au.finance.yahoo.com/quote/BHP.AX/profile?p=BHP.AX\n",
        "\n",
        "```\n",
        "Mr. Mike P. Henry B.Sc., BSc (Chem)\tCEO & Exec. Director\t5.04M\tN/A\t1966\n",
        "Mr. David Mark Lamont ACA, BCom, C.A.\tChief Financial Officer\t1.72M\tN/A\t1966\n",
        "Mr. Peter Beaven BAcc, CA\tExec. Officer\t2.4M\tN/A\t1967\n",
        "Ms. Geraldine A. Slattery B.Sc., M.Sc.\tPres of Petroleum Operations\t2.56M\tN/A\t1970\n",
        "Mr. Ragnar Udd M.B.A.\tPres of Minerals Americas\t2.09M\tN/A\t1972\n",
        "Mr. Edgar Basto-Baez B.Sc.\tPres of Minerals Australia\t2.4M\tN/A\t1968\n",
        "Ms. Laura Tyler B.Sc., M.Sc.\tChief Technical Officer\tN/A\tN/A\t1967\n",
        "Mr. Tristan Lovegrove\tGroup Investor Relations Officer\tN/A\tN/A\tN/A\n",
        "Ms. Caroline Cox B.A., L.L.B., M.A.\tChief Legal, Governance & External Affairs Officer\tN/A\tN/A\t1970\n",
        "Mr. James Agar\tVP of Communications\tN/A\tN/A\tN/A\n",
        "\n",
        "```\n",
        "\n",
        "Now, have to calculate the income tax. Needs to know their pay!\n",
        "\n",
        "The first column is Name\n",
        "The second column is Title \n",
        "The third column is Pay \n",
        "\n",
        "***TODO: How to get the third column! **\n",
        "\n",
        "First consider one row \n",
        "\n",
        "*Note: The lecture asked to select only Name, Title and Pay *\n",
        "\n",
        "\n",
        "```\n",
        "Mr. Mike P. Henry B.Sc., BSc (Chem)\tCEO & Exec. Director\t5.04M\t\n",
        "```\n",
        "The third column is pay, according to that, it is '5.04M'\n",
        "\n",
        "Assume that 'M' mwans millions. so '5.04' * 10000000\n"
      ]
    },
    {
      "cell_type": "code",
      "metadata": {
        "colab": {
          "base_uri": "https://localhost:8080/"
        },
        "id": "mKBaSW8fXSrR",
        "outputId": "ceec2424-708b-48d6-ad13-f3848174b798"
      },
      "source": [
        "5.04 * 10000000"
      ],
      "execution_count": null,
      "outputs": [
        {
          "output_type": "execute_result",
          "data": {
            "text/plain": [
              "50400000.0"
            ]
          },
          "metadata": {},
          "execution_count": 1
        }
      ]
    },
    {
      "cell_type": "markdown",
      "metadata": {
        "id": "26ba9QZFNE5s"
      },
      "source": [
        "Again another row (looking for differences but there is no difference)\n",
        "\n",
        "```\n",
        "Mr. Ragnar Udd M.B.A.\tPres of Minerals Americas\t2.09M\t\n",
        "```"
      ]
    },
    {
      "cell_type": "code",
      "metadata": {
        "colab": {
          "base_uri": "https://localhost:8080/"
        },
        "id": "tlBlnG1VYxMo",
        "outputId": "4d4bbfcf-cfea-42d3-fd24-dfadf68821b9"
      },
      "source": [
        "2.09 * 10000000"
      ],
      "execution_count": null,
      "outputs": [
        {
          "output_type": "execute_result",
          "data": {
            "text/plain": [
              "20900000.0"
            ]
          },
          "metadata": {},
          "execution_count": 2
        }
      ]
    },
    {
      "cell_type": "markdown",
      "metadata": {
        "id": "_GDBv9DiY-o4"
      },
      "source": [
        "Looking for more rows to find out different one\n",
        "\n",
        "```\n",
        "Mr. James Agar\tVP of Communications\tN/A\t\n",
        "```\n",
        "\n",
        "There is something different to think about. What to do with N/A\n",
        "\n",
        "***TODO: Work out how to process N/A***\n",
        "\n",
        "\n",
        "Able to identify two different types of rows\n",
        "\n",
        "It is time to calculate the income tax. First look at the tax notebook. Here is the function from the tax notebook\n",
        "\n",
        "```\n",
        "def calculate_tax(income): \n",
        "  if income <= 18200:\n",
        "   tax_payable = 0 \n",
        "  elif 18200 < income <= 45000:\n",
        "   tax_payable = 0.19 * (income - 18200)\n",
        "  elif 45000 < income < 120000:\n",
        "    tax_payable = 5092 + 0.32 * (income - 45000)\n",
        "\n",
        "  return tax_payable \n",
        "```\n",
        "The above functioned is used to calculate the income tax\n",
        "It works since I tested earlier \n",
        "\n",
        "\n",
        "income_tax = calculate_tax(pay)"
      ]
    },
    {
      "cell_type": "markdown",
      "metadata": {
        "id": "GIDg87rwsioL"
      },
      "source": [
        "Initial Algorithm\n",
        "\n",
        "1. User input ticker symbol\n",
        "2. use ticker to get profile page \n",
        "3. copied the table \n",
        "4. For each row of the table \n",
        "     * Process a row to extract pay\n",
        "     * Find the last character to determine multiplier \n",
        "     * Calculate salary, pay*multiplier\n",
        "     * Calculate the income tax \n",
        "\n",
        "Note:\n",
        "\n",
        "1. Need to validate the ticker, but for now I will assume user type in a correct ticker \n",
        "2. Still needs to work out where to save income tax"
      ]
    },
    {
      "cell_type": "code",
      "metadata": {
        "colab": {
          "base_uri": "https://localhost:8080/"
        },
        "id": "nMHo-OTy2ani",
        "outputId": "843b3313-3c29-4f10-8d3e-3e114346a64e"
      },
      "source": [
        " # User input ticker symbol\n",
        " ticker_symbol = input(\"Please input ticker symbol \")\n",
        " print(ticker_symbol)"
      ],
      "execution_count": null,
      "outputs": [
        {
          "output_type": "stream",
          "name": "stdout",
          "text": [
            "Please input ticker symbol bhp.ax\n",
            "bhp.ax\n"
          ]
        }
      ]
    },
    {
      "cell_type": "code",
      "metadata": {
        "colab": {
          "base_uri": "https://localhost:8080/",
          "height": 35
        },
        "id": "toW_wtZU3FE2",
        "outputId": "554c9818-addd-466d-b067-c20a6664d9d2"
      },
      "source": [
        "# use ticker to get profile page\n",
        " \n",
        "example_url = 'https://au.finance.yahoo.com/quote/{}/profile?p={}'\n",
        "example_url.format(ticker_symbol, ticker_symbol)"
      ],
      "execution_count": null,
      "outputs": [
        {
          "output_type": "execute_result",
          "data": {
            "application/vnd.google.colaboratory.intrinsic+json": {
              "type": "string"
            },
            "text/plain": [
              "'https://au.finance.yahoo.com/quote/bhp.ax/profile?p=bhp.ax'"
            ]
          },
          "metadata": {},
          "execution_count": 33
        }
      ]
    },
    {
      "cell_type": "code",
      "metadata": {
        "id": "R9tz6oU1xF3B"
      },
      "source": [
        "def develop_url():\n",
        "  ```\n",
        "  this function is used to get the url\n",
        "  ```\n",
        "\n",
        "  # User input ticker symbol \n",
        "  ticker_symbol = input(\"Please input ticker symbol \")\n",
        "  # print(ticker_symbol)\n",
        "  example_url = 'https://au.finance.yahoo.com/quote/{}/profile?p\"{}'\n",
        "  result = example_url.format(ticker_symbol, ticker_symbol)\n",
        "  return result"
      ],
      "execution_count": null,
      "outputs": []
    },
    {
      "cell_type": "code",
      "metadata": {
        "colab": {
          "base_uri": "https://localhost:8080/"
        },
        "id": "tkPp1PysyJsz",
        "outputId": "90f595c3-bd35-44bb-f6f6-137bedb144ad"
      },
      "source": [
        "# Get URL \n",
        "url = develop_url()\n",
        "print(url)"
      ],
      "execution_count": null,
      "outputs": [
        {
          "output_type": "stream",
          "name": "stdout",
          "text": [
            "Please input ticker symbol bhp.ax\n",
            "https://au.finance.yahoo.com/quote/bhp.ax/profile?p\"bhp.ax\n"
          ]
        }
      ]
    },
    {
      "cell_type": "code",
      "metadata": {
        "id": "l9TXmlP72FNM",
        "colab": {
          "base_uri": "https://localhost:8080/"
        },
        "outputId": "805f5ee2-fc20-448c-eaf2-7d3e87a6ab5a"
      },
      "source": [
        "\n",
        "\n",
        "\n",
        "# Usually run of Google Colab, so install unique packages\n",
        "!pip install kora -q\n",
        "\n",
        "#load packages \n",
        "from bs4 import BeautifulSoup\n",
        "from kora.selenium import wd\n",
        "import pandas as pd \n"
      ],
      "execution_count": null,
      "outputs": [
        {
          "output_type": "stream",
          "name": "stdout",
          "text": [
            "\u001b[?25l\r\u001b[K     |█████▊                          | 10 kB 26.7 MB/s eta 0:00:01\r\u001b[K     |███████████▍                    | 20 kB 30.3 MB/s eta 0:00:01\r\u001b[K     |█████████████████               | 30 kB 14.1 MB/s eta 0:00:01\r\u001b[K     |██████████████████████▊         | 40 kB 13.5 MB/s eta 0:00:01\r\u001b[K     |████████████████████████████▍   | 51 kB 7.1 MB/s eta 0:00:01\r\u001b[K     |████████████████████████████████| 57 kB 2.6 MB/s \n",
            "\u001b[?25h\u001b[?25l\r\u001b[K     |█████▉                          | 10 kB 22.6 MB/s eta 0:00:01\r\u001b[K     |███████████▊                    | 20 kB 33.7 MB/s eta 0:00:01\r\u001b[K     |█████████████████▌              | 30 kB 41.9 MB/s eta 0:00:01\r\u001b[K     |███████████████████████▍        | 40 kB 37.6 MB/s eta 0:00:01\r\u001b[K     |█████████████████████████████▎  | 51 kB 40.4 MB/s eta 0:00:01\r\u001b[K     |████████████████████████████████| 56 kB 4.1 MB/s \n",
            "\u001b[?25h"
          ]
        }
      ]
    },
    {
      "cell_type": "code",
      "metadata": {
        "id": "175b26xHHgFv"
      },
      "source": [
        "def develop_url():\n",
        "  # User input ticker symbol \n",
        "  ticker_symbol = input(\"Please input ticker symbol \")\n",
        "  # print(ticker_symbol)\n",
        "  example_url = 'https://au.finance.yahoo.com/quote/{}/profile?p\"{}'\n",
        "  result = example_url.format(ticker_symbol, ticker_symbol)\n",
        "  return result"
      ],
      "execution_count": null,
      "outputs": []
    },
    {
      "cell_type": "code",
      "metadata": {
        "id": "gVnp2nbG__JK"
      },
      "source": [
        "def record_first_2_cells(row):\n",
        "  ```\n",
        "  this functioned is used to get cells and return dictionary \n",
        "  ```\n",
        "  cells = row.find_all('td')\n",
        "  name = cells[0].text\n",
        "  title = cells[1].text\n",
        "  pay = cells[2].text\n",
        "  return {'name':name, 'title': title, 'pay':pay}"
      ],
      "execution_count": null,
      "outputs": []
    },
    {
      "cell_type": "code",
      "metadata": {
        "id": "S1aodxg1R3np",
        "colab": {
          "base_uri": "https://localhost:8080/",
          "height": 376
        },
        "outputId": "a8ce4c78-56b5-498e-a4cd-d7bb0c73f490"
      },
      "source": [
        "# Get URL\n",
        "url = develop_url()\n",
        "wd.get(url)\n",
        "soup = BeautifulSoup(wd.page_source, \"html.parser\")\n",
        "records = get_exec_records(soup)\n",
        "\n",
        "for record in records:\n",
        "  result = record_pay(record)\n",
        "  income_tax = calculate_tax(result)\n",
        "  record['tax'] = income_tax\n",
        "\n",
        "# create a pandas dataframe \n",
        "\n",
        "execs_df = pd.DataFrame.from_records(records)\n",
        "execs_df"
      ],
      "execution_count": null,
      "outputs": [
        {
          "name": "stdout",
          "output_type": "stream",
          "text": [
            "Please input ticker symbol bhp.ax\n"
          ]
        },
        {
          "output_type": "execute_result",
          "data": {
            "text/html": [
              "<div>\n",
              "<style scoped>\n",
              "    .dataframe tbody tr th:only-of-type {\n",
              "        vertical-align: middle;\n",
              "    }\n",
              "\n",
              "    .dataframe tbody tr th {\n",
              "        vertical-align: top;\n",
              "    }\n",
              "\n",
              "    .dataframe thead th {\n",
              "        text-align: right;\n",
              "    }\n",
              "</style>\n",
              "<table border=\"1\" class=\"dataframe\">\n",
              "  <thead>\n",
              "    <tr style=\"text-align: right;\">\n",
              "      <th></th>\n",
              "      <th>name</th>\n",
              "      <th>title</th>\n",
              "      <th>pay</th>\n",
              "      <th>tax</th>\n",
              "    </tr>\n",
              "  </thead>\n",
              "  <tbody>\n",
              "    <tr>\n",
              "      <th>0</th>\n",
              "      <td>Mr. Mike P. Henry B.Sc., BSc (Chem)</td>\n",
              "      <td>CEO &amp; Exec. Director</td>\n",
              "      <td>5.04M</td>\n",
              "      <td>166372.0</td>\n",
              "    </tr>\n",
              "    <tr>\n",
              "      <th>1</th>\n",
              "      <td>Mr. David Mark Lamont ACA, BCom, C.A.</td>\n",
              "      <td>Chief Financial Officer</td>\n",
              "      <td>1.72M</td>\n",
              "      <td>50872.0</td>\n",
              "    </tr>\n",
              "    <tr>\n",
              "      <th>2</th>\n",
              "      <td>Mr. Peter  Beaven BAcc, CA</td>\n",
              "      <td>Exec. Officer</td>\n",
              "      <td>2.4M</td>\n",
              "      <td>75372.0</td>\n",
              "    </tr>\n",
              "    <tr>\n",
              "      <th>3</th>\n",
              "      <td>Ms. Geraldine A. Slattery B.Sc., M.Sc.</td>\n",
              "      <td>Pres of Petroleum Operations</td>\n",
              "      <td>2.56M</td>\n",
              "      <td>78872.0</td>\n",
              "    </tr>\n",
              "    <tr>\n",
              "      <th>4</th>\n",
              "      <td>Mr. Ragnar  Udd M.B.A.</td>\n",
              "      <td>Pres of Minerals Americas</td>\n",
              "      <td>2.09M</td>\n",
              "      <td>61372.0</td>\n",
              "    </tr>\n",
              "    <tr>\n",
              "      <th>5</th>\n",
              "      <td>Mr. Edgar  Basto-Baez B.Sc.</td>\n",
              "      <td>Pres of Minerals Australia</td>\n",
              "      <td>2.4M</td>\n",
              "      <td>75372.0</td>\n",
              "    </tr>\n",
              "    <tr>\n",
              "      <th>6</th>\n",
              "      <td>Ms. Laura  Tyler B.Sc., M.Sc.</td>\n",
              "      <td>Chief Technical Officer</td>\n",
              "      <td>N/A</td>\n",
              "      <td>0.0</td>\n",
              "    </tr>\n",
              "    <tr>\n",
              "      <th>7</th>\n",
              "      <td>Mr. Tristan  Lovegrove</td>\n",
              "      <td>Group Investor Relations Officer</td>\n",
              "      <td>N/A</td>\n",
              "      <td>0.0</td>\n",
              "    </tr>\n",
              "    <tr>\n",
              "      <th>8</th>\n",
              "      <td>Ms. Caroline  Cox B.A., L.L.B., M.A.</td>\n",
              "      <td>Chief Legal, Governance &amp; External Affairs Off...</td>\n",
              "      <td>N/A</td>\n",
              "      <td>0.0</td>\n",
              "    </tr>\n",
              "    <tr>\n",
              "      <th>9</th>\n",
              "      <td>Mr. James  Agar</td>\n",
              "      <td>VP of Communications</td>\n",
              "      <td>N/A</td>\n",
              "      <td>0.0</td>\n",
              "    </tr>\n",
              "  </tbody>\n",
              "</table>\n",
              "</div>"
            ],
            "text/plain": [
              "                                     name  ...       tax\n",
              "0     Mr. Mike P. Henry B.Sc., BSc (Chem)  ...  166372.0\n",
              "1   Mr. David Mark Lamont ACA, BCom, C.A.  ...   50872.0\n",
              "2              Mr. Peter  Beaven BAcc, CA  ...   75372.0\n",
              "3  Ms. Geraldine A. Slattery B.Sc., M.Sc.  ...   78872.0\n",
              "4                  Mr. Ragnar  Udd M.B.A.  ...   61372.0\n",
              "5             Mr. Edgar  Basto-Baez B.Sc.  ...   75372.0\n",
              "6           Ms. Laura  Tyler B.Sc., M.Sc.  ...       0.0\n",
              "7                  Mr. Tristan  Lovegrove  ...       0.0\n",
              "8    Ms. Caroline  Cox B.A., L.L.B., M.A.  ...       0.0\n",
              "9                         Mr. James  Agar  ...       0.0\n",
              "\n",
              "[10 rows x 4 columns]"
            ]
          },
          "metadata": {},
          "execution_count": 160
        }
      ]
    },
    {
      "cell_type": "code",
      "metadata": {
        "colab": {
          "base_uri": "https://localhost:8080/"
        },
        "id": "zDOzYJSUBLcV",
        "outputId": "d158c8b7-3707-4f44-a9a2-90b08051f658"
      },
      "source": [
        "\n",
        "exec_records = []\n",
        "for row in rows:\n",
        "  result = record_first_2_cells(row)\n",
        "  exec_records.append(result)\n",
        "\n",
        "print(exec_records)"
      ],
      "execution_count": null,
      "outputs": [
        {
          "output_type": "stream",
          "name": "stdout",
          "text": [
            "[{'name': 'Mr. Mike P. Henry B.Sc., BSc (Chem)', 'title': 'CEO & Exec. Director', 'pay': '5.04M'}, {'name': 'Mr. David Mark Lamont ACA, BCom, C.A.', 'title': 'Chief Financial Officer', 'pay': '1.72M'}, {'name': 'Mr. Peter  Beaven BAcc, CA', 'title': 'Exec. Officer', 'pay': '2.4M'}, {'name': 'Ms. Geraldine A. Slattery B.Sc., M.Sc.', 'title': 'Pres of Petroleum Operations', 'pay': '2.56M'}, {'name': 'Mr. Ragnar  Udd M.B.A.', 'title': 'Pres of Minerals Americas', 'pay': '2.09M'}, {'name': 'Mr. Edgar  Basto-Baez B.Sc.', 'title': 'Pres of Minerals Australia', 'pay': '2.4M'}, {'name': 'Ms. Laura  Tyler B.Sc., M.Sc.', 'title': 'Chief Technical Officer', 'pay': 'N/A'}, {'name': 'Mr. Tristan  Lovegrove', 'title': 'Group Investor Relations Officer', 'pay': 'N/A'}, {'name': 'Ms. Caroline  Cox B.A., L.L.B., M.A.', 'title': 'Chief Legal, Governance & External Affairs Officer', 'pay': 'N/A'}, {'name': 'Mr. James  Agar', 'title': 'VP of Communications', 'pay': 'N/A'}]\n"
          ]
        }
      ]
    },
    {
      "cell_type": "code",
      "metadata": {
        "id": "AjQwpv8qC4er"
      },
      "source": [
        "def get_exec_records(soup):\n",
        "  ```\n",
        "\n",
        "  this functioned is used to find rows and get exact records \n",
        "  ```\n",
        "  table = soup.find('table')\n",
        "  body = table.find('tbody')\n",
        "  rows = body.find_all('tr')\n",
        "  \n",
        "  exec_records = []\n",
        "  for row in rows:\n",
        "    result = record_first_2_cells(row)\n",
        "    exec_records.append(result)\n",
        "  return exec_records"
      ],
      "execution_count": null,
      "outputs": []
    },
    {
      "cell_type": "code",
      "metadata": {
        "id": "ZfafqRtBDShg"
      },
      "source": [
        "def record_pay(rec):\n",
        "\n",
        "  ```\n",
        "  this function is used to get the salary \n",
        "  ```\n",
        "  pay = rec['pay']\n",
        "  last_char = pay[-1]\n",
        "  num_part = pay[0:3]\n",
        "\n",
        "  if last_char == 'M':\n",
        "    salary = float(num_part) * 100000\n",
        "    #print(\"Millions\")\n",
        "  else:\n",
        "    salary = 0\n",
        "    #print(\"Not Sure\")\n",
        "\n",
        "  return salary"
      ],
      "execution_count": null,
      "outputs": []
    },
    {
      "cell_type": "code",
      "metadata": {
        "id": "v5Wa7PX_PaEM",
        "colab": {
          "base_uri": "https://localhost:8080/"
        },
        "outputId": "533dd4fc-df52-4ebc-a4ad-ad404bf38933"
      },
      "source": [
        "for r in records:\n",
        "  result = record_pay(r)\n",
        "  print(result)"
      ],
      "execution_count": null,
      "outputs": [
        {
          "output_type": "stream",
          "name": "stdout",
          "text": [
            "500000.0\n",
            "170000.0\n",
            "240000.0\n",
            "250000.0\n",
            "200000.0\n",
            "240000.0\n",
            "0\n",
            "0\n",
            "0\n",
            "0\n"
          ]
        }
      ]
    },
    {
      "cell_type": "code",
      "metadata": {
        "id": "0KRiqzntvlN6"
      },
      "source": [
        "\n",
        "def get_tax(income): \n",
        "  ```\n",
        "  this function is used to calculate the income tax. I got this function from google and did some changes \n",
        "  ```\n",
        "  if income <= 19000:\n",
        "    taxp = 0\n",
        "  elif income <= 58000: \n",
        "    taxp = (income - 19000) * 0.15 \n",
        "  elif income <= 75000:\n",
        "    taxp = (income-58000) * 0.156 + 6398 \n",
        "  elif income <= 155000:\n",
        "    taxp = (income - 75000) * 0.25 + 10366 \n",
        "  else:\n",
        "    taxp = (income - 185000) * 0.35 + 45622\n",
        "  \n",
        "  return taxp   \n",
        "\n",
        " "
      ],
      "execution_count": null,
      "outputs": []
    },
    {
      "cell_type": "code",
      "metadata": {
        "id": "-q52lXJ-zBf4"
      },
      "source": [
        "for r in records:\n",
        "  result = record_pay(r)\n",
        "  income_tax = calculate_tax(result)\n",
        "  print(r)\n",
        "  print(income_tax)\n",
        "  r['tax'] = income_tax\n",
        "  print(r)"
      ],
      "execution_count": null,
      "outputs": []
    },
    {
      "cell_type": "code",
      "metadata": {
        "colab": {
          "base_uri": "https://localhost:8080/"
        },
        "id": "IQ-1iUcsQY2o",
        "outputId": "29c281ec-7eb2-4e6d-9095-7ee13493c941"
      },
      "source": [
        "print(records)"
      ],
      "execution_count": null,
      "outputs": [
        {
          "output_type": "stream",
          "name": "stdout",
          "text": [
            "[{'name': 'Mr. Mike P. Henry B.Sc., BSc (Chem)', 'title': 'CEO & Exec. Director', 'pay': '5.04M'}, {'name': 'Mr. David Mark Lamont ACA, BCom, C.A.', 'title': 'Chief Financial Officer', 'pay': '1.72M'}, {'name': 'Mr. Peter  Beaven BAcc, CA', 'title': 'Exec. Officer', 'pay': '2.4M'}, {'name': 'Ms. Geraldine A. Slattery B.Sc., M.Sc.', 'title': 'Pres of Petroleum Operations', 'pay': '2.56M'}, {'name': 'Mr. Ragnar  Udd M.B.A.', 'title': 'Pres of Minerals Americas', 'pay': '2.09M'}, {'name': 'Mr. Edgar  Basto-Baez B.Sc.', 'title': 'Pres of Minerals Australia', 'pay': '2.4M'}, {'name': 'Ms. Laura  Tyler B.Sc., M.Sc.', 'title': 'Chief Technical Officer', 'pay': 'N/A'}, {'name': 'Mr. Tristan  Lovegrove', 'title': 'Group Investor Relations Officer', 'pay': 'N/A'}, {'name': 'Ms. Caroline  Cox B.A., L.L.B., M.A.', 'title': 'Chief Legal, Governance & External Affairs Officer', 'pay': 'N/A'}, {'name': 'Mr. James  Agar', 'title': 'VP of Communications', 'pay': 'N/A'}]\n"
          ]
        }
      ]
    }
  ]
}