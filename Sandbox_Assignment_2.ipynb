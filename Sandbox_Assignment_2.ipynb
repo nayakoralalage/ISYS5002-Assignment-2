{
  "nbformat": 4,
  "nbformat_minor": 0,
  "metadata": {
    "colab": {
      "name": "Sandbox_Assignment 2.ipynb",
      "provenance": [],
      "authorship_tag": "ABX9TyNHpFV8Kj+4L75qSigsdlKV",
      "include_colab_link": true
    },
    "kernelspec": {
      "name": "python3",
      "display_name": "Python 3"
    },
    "language_info": {
      "name": "python"
    }
  },
  "cells": [
    {
      "cell_type": "markdown",
      "metadata": {
        "id": "view-in-github",
        "colab_type": "text"
      },
      "source": [
        "<a href=\"https://colab.research.google.com/github/nayakoralalage/ISYS5002-Assignment-2/blob/main/Sandbox_Assignment_2.ipynb\" target=\"_parent\"><img src=\"https://colab.research.google.com/assets/colab-badge.svg\" alt=\"Open In Colab\"/></a>"
      ]
    },
    {
      "cell_type": "markdown",
      "metadata": {
        "id": "UmOt9pWQS80n"
      },
      "source": [
        "# Assignment Ideas"
      ]
    },
    {
      "cell_type": "code",
      "metadata": {
        "id": "d9xnrNXmTF2z"
      },
      "source": [
        ""
      ],
      "execution_count": null,
      "outputs": []
    }
  ]
}