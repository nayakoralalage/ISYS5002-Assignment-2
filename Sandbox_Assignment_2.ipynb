{
  "nbformat": 4,
  "nbformat_minor": 0,
  "metadata": {
    "colab": {
      "name": "Sandbox_Assignment 2.ipynb",
      "provenance": [],
      "authorship_tag": "ABX9TyPR97Nag1JIceOdBd26zsG9",
      "include_colab_link": true
    },
    "kernelspec": {
      "name": "python3",
      "display_name": "Python 3"
    },
    "language_info": {
      "name": "python"
    }
  },
  "cells": [
    {
      "cell_type": "markdown",
      "metadata": {
        "id": "view-in-github",
        "colab_type": "text"
      },
      "source": [
        "<a href=\"https://colab.research.google.com/github/nayakoralalage/ISYS5002-Assignment-2/blob/main/Sandbox_Assignment_2.ipynb\" target=\"_parent\"><img src=\"https://colab.research.google.com/assets/colab-badge.svg\" alt=\"Open In Colab\"/></a>"
      ]
    },
    {
      "cell_type": "markdown",
      "metadata": {
        "id": "UmOt9pWQS80n"
      },
      "source": [
        "# Assignment Ideas\n",
        "\n",
        "The problem solving process can be divided into 5 main parts: \n",
        "\n",
        "1. Mention the problem clearly\n",
        "2. Describe the input and output information \n",
        "3. Work the problem by hand \n",
        "4. Develop an algorithm (and convert to python)\n",
        "5. Test solution with a varity of data \n",
        "\n",
        "Program, Inputs, Processing, and Outputs\n",
        "\n",
        "# Inputs\n",
        "\n",
        "* Needs to input a ticker symbal. But I have no idea about ticker symbol \n",
        "\n",
        "Note: I think I will need to use the input() functions to prompt the user \n",
        "\n",
        "**TODO: Find out what a ticker symbol is**\n",
        "\n",
        "### Ticker Symbol \n",
        "A ticker symbol or stock symbol is an abbreviation used to uniquely identify publicly traded shares of a particular stock on a particular stock market. see: https://en.wikipedia.org/wiki/Ticker_symbol\n",
        "\n",
        "\n",
        "# Processing Thoughts \n",
        "\n",
        "* Scrape the yahoo websitr\n",
        "* Extract the \"Key Excutives\"\n",
        "* Calculate the income tax\n",
        "\n",
        "Note: I have learnt to calculate the  tax using ATO table in a previous notebook. Therefore I might be able to use that for this assignment  \n",
        "\n",
        "**TODO: Find Yahoo Webstie**\n",
        "\n",
        "This is the webpage: https://au.finance.yahoo.com/ \n",
        "\n",
        "To find a company, needs to search in the search bar \n",
        "\n",
        "**TODO: Find the key executives**\n",
        "\n",
        "# Outputs \n",
        "\n",
        "* Save to CSV files\n",
        "* Save to SQL database\n",
        "\n",
        "**TODO: Work out what I have to save!**\n",
        "\n",
        "# Explore the website \n",
        "\n",
        "1. Search for BHP \n",
        "\n",
        "BHP ticker symbol is BHP.AX\n",
        "\n",
        "Note: AX = Australian \n",
        "\n",
        "Able to find the key executives in the profile page. \n",
        "This is the URL for BHP \n",
        "\n",
        "https://au.finance.yahoo.com/quote/BHP.AX/profile?p=BHP.AX\n",
        "\n",
        "2. Search for Woolworths \n",
        "\n",
        "The thicker symbol is WOW.AX\n",
        "This is the URL for Woolworths \n",
        "\n",
        "https://au.finance.yahoo.com/quote/WOW.AX/profile?p=WOW.AX\n",
        "\n",
        "3. Search for National Australia Bank(NAB) \n",
        "\n",
        "The ticker symbol is NAB.AX\n",
        "This is the URL for NAB\n",
        "\n",
        "https://au.finance.yahoo.com/quote/NAB.AX/profile?p=NAB.AX&.tsrc=fin-srch\n",
        "\n",
        "mm.. I can see something interesting. The ticker appearce twice in the URL. \n",
        "\n",
        "The manual process is \n",
        "\n",
        "1. Search for Ticker\n",
        "2. Click on profile \n",
        "\n",
        "**TODO: Can I shourtcut the process and just use the URL \n",
        "\n",
        "Found that I can edit URL and replace the ticker. It is important to replace both first and second ticker symbol in the URL for the security "
      ]
    },
    {
      "cell_type": "code",
      "metadata": {
        "id": "d9xnrNXmTF2z"
      },
      "source": [
        ""
      ],
      "execution_count": null,
      "outputs": []
    }
  ]
}